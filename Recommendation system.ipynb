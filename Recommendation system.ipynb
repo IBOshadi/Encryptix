{
 "cells": [
  {
   "cell_type": "code",
   "execution_count": 5,
   "id": "3eb2f7c0",
   "metadata": {},
   "outputs": [],
   "source": [
    "import pandas as pd\n",
    "from sklearn.metrics.pairwise import cosine_similarity\n",
    "from sklearn.feature_extraction.text import CountVectorizer"
   ]
  },
  {
   "cell_type": "code",
   "execution_count": 6,
   "id": "80c19261",
   "metadata": {},
   "outputs": [],
   "source": [
    "# Example dataset\n",
    "data = {\n",
    "    'ItemID': [1, 2, 3, 4, 5],\n",
    "    'Title': ['The Matrix', 'Inception', 'Interstellar', 'The Dark Knight', 'The Prestige'],\n",
    "    'Genre': ['Action|Sci-Fi', 'Action|Thriller', 'Drama|Sci-Fi', 'Action|Crime', 'Drama|Mystery']\n",
    "}\n",
    "\n",
    "df = pd.DataFrame(data)"
   ]
  },
  {
   "cell_type": "code",
   "execution_count": 7,
   "id": "b52f5b15",
   "metadata": {},
   "outputs": [],
   "source": [
    "# Combine features for content-based filtering\n",
    "def combine_features(row):\n",
    "    return row['Title'] + \" \" + row['Genre']\n",
    "\n",
    "df['CombinedFeatures'] = df.apply(combine_features, axis=1)"
   ]
  },
  {
   "cell_type": "code",
   "execution_count": 8,
   "id": "9562ac7d",
   "metadata": {},
   "outputs": [],
   "source": [
    "# Create the count matrix\n",
    "count_vectorizer = CountVectorizer()\n",
    "count_matrix = count_vectorizer.fit_transform(df['CombinedFeatures'])\n",
    "\n",
    "# Compute the cosine similarity matrix\n",
    "cosine_sim = cosine_similarity(count_matrix, count_matrix)"
   ]
  },
  {
   "cell_type": "code",
   "execution_count": 9,
   "id": "b3f01141",
   "metadata": {},
   "outputs": [],
   "source": [
    "# Recommendation function\n",
    "def recommend(item_title, df, cosine_sim):\n",
    "    # Get the index of the item that matches the title\n",
    "    idx = df[df['Title'] == item_title].index[0]\n",
    "\n",
    "    # Get the pairwise similarity scores of all items with the given item\n",
    "    sim_scores = list(enumerate(cosine_sim[idx]))\n",
    "\n",
    "    # Sort the items based on the similarity scores\n",
    "    sim_scores = sorted(sim_scores, key=lambda x: x[1], reverse=True)\n",
    "\n",
    "    # Get the indices of the 3 most similar items\n",
    "    sim_scores = sim_scores[1:4]  # Exclude the first item (itself)\n",
    "\n",
    "    # Get the item indices\n",
    "    item_indices = [i[0] for i in sim_scores]\n",
    "\n",
    "    # Return the top 3 most similar items\n",
    "    return df['Title'].iloc[item_indices]"
   ]
  },
  {
   "cell_type": "code",
   "execution_count": 10,
   "id": "1b80bc97",
   "metadata": {},
   "outputs": [
    {
     "name": "stdout",
     "output_type": "stream",
     "text": [
      "Recommendations for 'The Matrix':\n",
      "2       Interstellar\n",
      "3    The Dark Knight\n",
      "1          Inception\n",
      "Name: Title, dtype: object\n"
     ]
    }
   ],
   "source": [
    "# Example usage\n",
    "item_to_recommend = 'The Matrix'\n",
    "recommendations = recommend(item_to_recommend, df, cosine_sim)\n",
    "print(f\"Recommendations for '{item_to_recommend}':\")\n",
    "print(recommendations)"
   ]
  },
  {
   "cell_type": "code",
   "execution_count": null,
   "id": "1882bf49",
   "metadata": {},
   "outputs": [],
   "source": []
  }
 ],
 "metadata": {
  "kernelspec": {
   "display_name": "Python 3 (ipykernel)",
   "language": "python",
   "name": "python3"
  },
  "language_info": {
   "codemirror_mode": {
    "name": "ipython",
    "version": 3
   },
   "file_extension": ".py",
   "mimetype": "text/x-python",
   "name": "python",
   "nbconvert_exporter": "python",
   "pygments_lexer": "ipython3",
   "version": "3.11.4"
  }
 },
 "nbformat": 4,
 "nbformat_minor": 5
}
