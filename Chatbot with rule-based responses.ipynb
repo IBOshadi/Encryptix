{
 "cells": [
  {
   "cell_type": "code",
   "execution_count": 1,
   "id": "cca8de89",
   "metadata": {},
   "outputs": [],
   "source": [
    "def get_response(user_input):\n",
    "    # Convert the input to lowercase \n",
    "    user_input = user_input.lower()\n",
    "\n",
    "    # Define a simple set of rules for responses\n",
    "    if 'hello' in user_input or 'hi' in user_input:\n",
    "        return \"Hello! How can I assist you today?\"\n",
    "    elif 'how are you' in user_input:\n",
    "        return \"I'm doing great, thank you for asking! How about you?\"\n",
    "    elif 'bye' in user_input or 'goodbye' in user_input:\n",
    "        return \"Goodbye! Have a great day!\"\n",
    "    elif 'your name' in user_input:\n",
    "        return \"I am a chatbot, and I don't have a specific name. You can call me ChatBot!\"\n",
    "    elif 'help' in user_input:\n",
    "        return \"I can help you with basic questions. Just ask me anything like 'How are you?', 'What's your name?', or 'Goodbye'.\"\n",
    "    elif 'thank you' in user_input or 'thanks' in user_input:\n",
    "        return \"You're welcome! Let me know if you need anything else.\"\n",
    "    elif 'weather' in user_input:\n",
    "        return \"I don't have access to live weather data, but you can check it on your phone or computer.\"\n",
    "    elif 'time' in user_input:\n",
    "        from datetime import datetime\n",
    "        current_time = datetime.now().strftime(\"%H:%M:%S\")\n",
    "        return f\"The current time is {current_time}.\"\n",
    "    else:\n",
    "        return \"I'm sorry, I didn't understand that. Can you please rephrase?\""
   ]
  },
  {
   "cell_type": "code",
   "execution_count": 2,
   "id": "d5aaf767",
   "metadata": {},
   "outputs": [],
   "source": [
    "def chat():\n",
    "    print(\"ChatBot: Hello! Type 'bye' to exit the chat.\")\n",
    "    \n",
    "    while True:\n",
    "        # Get input from the user\n",
    "        user_input = input(\"You: \")\n",
    "\n",
    "        # Exit the chat if the user says 'bye' or 'goodbye'\n",
    "        if 'bye' in user_input.lower() or 'goodbye' in user_input.lower():\n",
    "            print(\"ChatBot: Goodbye! Have a great day!\")\n",
    "            break\n",
    "        \n",
    "        # Get the chatbot's response based on the input\n",
    "        response = get_response(user_input)\n",
    "        \n",
    "        print(f\"ChatBot: {response}\")"
   ]
  },
  {
   "cell_type": "code",
   "execution_count": 3,
   "id": "8904d2ef",
   "metadata": {},
   "outputs": [
    {
     "name": "stdout",
     "output_type": "stream",
     "text": [
      "ChatBot: Hello! Type 'bye' to exit the chat.\n",
      "You: hello\n",
      "ChatBot: Hello! How can I assist you today?\n",
      "You: what is the color of ice\n",
      "ChatBot: I'm sorry, I didn't understand that. Can you please rephrase?\n",
      "You: bye\n",
      "ChatBot: Goodbye! Have a great day!\n"
     ]
    }
   ],
   "source": [
    "chat()"
   ]
  },
  {
   "cell_type": "code",
   "execution_count": null,
   "id": "6968a9a7",
   "metadata": {},
   "outputs": [],
   "source": []
  }
 ],
 "metadata": {
  "kernelspec": {
   "display_name": "Python 3 (ipykernel)",
   "language": "python",
   "name": "python3"
  },
  "language_info": {
   "codemirror_mode": {
    "name": "ipython",
    "version": 3
   },
   "file_extension": ".py",
   "mimetype": "text/x-python",
   "name": "python",
   "nbconvert_exporter": "python",
   "pygments_lexer": "ipython3",
   "version": "3.11.4"
  }
 },
 "nbformat": 4,
 "nbformat_minor": 5
}
